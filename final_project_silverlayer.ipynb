{
 "cells": [
  {
   "cell_type": "code",
   "execution_count": null,
   "id": "c0072a7f-fee0-4ca5-95f1-0a201f6a4bce",
   "metadata": {},
   "outputs": [],
   "source": []
  },
  {
   "cell_type": "code",
   "execution_count": 2,
   "id": "444e1b33-ec4b-478c-922e-58856a7f973e",
   "metadata": {},
   "outputs": [],
   "source": [
    "import findspark\n",
    "findspark.init(\"/opt/spark\")"
   ]
  },
  {
   "cell_type": "code",
   "execution_count": 3,
   "id": "c4b1be2a-ffce-44b3-a17b-e9e6a1fac73c",
   "metadata": {},
   "outputs": [],
   "source": [
    "from pyspark.sql import SparkSession, functions as F\n",
    "from pyspark import SparkContext\n",
    "import configparser"
   ]
  },
  {
   "cell_type": "code",
   "execution_count": 4,
   "id": "06ba78d2-c48d-4274-8a43-cd87bf14d2e4",
   "metadata": {},
   "outputs": [],
   "source": [
    "config = configparser.RawConfigParser()\n",
    "\n",
    "config.read('/dataops/db_conn')\n",
    "accessKeyId = config.get('DB', 'user_name')\n",
    "secretAccessKey = config.get('DB', 'password')"
   ]
  },
  {
   "cell_type": "code",
   "execution_count": 5,
   "id": "42317385-6f1f-4902-a27f-d25cf5b8ac30",
   "metadata": {
    "scrolled": true
   },
   "outputs": [
    {
     "name": "stdout",
     "output_type": "stream",
     "text": [
      ":: loading settings :: url = jar:file:/opt/spark/jars/ivy-2.5.1.jar!/org/apache/ivy/core/settings/ivysettings.xml\n"
     ]
    },
    {
     "name": "stderr",
     "output_type": "stream",
     "text": [
      "Ivy Default Cache set to: /root/.ivy2/cache\n",
      "The jars for the packages stored in: /root/.ivy2/jars\n",
      "org.apache.hadoop#hadoop-aws added as a dependency\n",
      "io.delta#delta-core_2.12 added as a dependency\n",
      "io.delta#delta-storage added as a dependency\n",
      ":: resolving dependencies :: org.apache.spark#spark-submit-parent-4c122f7e-894a-42a3-914f-949934733b41;1.0\n",
      "\tconfs: [default]\n",
      "\tfound org.apache.hadoop#hadoop-aws;3.2.0 in central\n",
      "\tfound com.amazonaws#aws-java-sdk-bundle;1.11.375 in central\n",
      "\tfound io.delta#delta-core_2.12;2.4.0 in central\n",
      "\tfound io.delta#delta-storage;2.4.0 in central\n",
      "\tfound org.antlr#antlr4-runtime;4.9.3 in central\n",
      ":: resolution report :: resolve 393ms :: artifacts dl 17ms\n",
      "\t:: modules in use:\n",
      "\tcom.amazonaws#aws-java-sdk-bundle;1.11.375 from central in [default]\n",
      "\tio.delta#delta-core_2.12;2.4.0 from central in [default]\n",
      "\tio.delta#delta-storage;2.4.0 from central in [default]\n",
      "\torg.antlr#antlr4-runtime;4.9.3 from central in [default]\n",
      "\torg.apache.hadoop#hadoop-aws;3.2.0 from central in [default]\n",
      "\t---------------------------------------------------------------------\n",
      "\t|                  |            modules            ||   artifacts   |\n",
      "\t|       conf       | number| search|dwnlded|evicted|| number|dwnlded|\n",
      "\t---------------------------------------------------------------------\n",
      "\t|      default     |   5   |   0   |   0   |   0   ||   5   |   0   |\n",
      "\t---------------------------------------------------------------------\n",
      ":: retrieving :: org.apache.spark#spark-submit-parent-4c122f7e-894a-42a3-914f-949934733b41\n",
      "\tconfs: [default]\n",
      "\t0 artifacts copied, 5 already retrieved (0kB/10ms)\n",
      "23/11/18 02:54:58 WARN NativeCodeLoader: Unable to load native-hadoop library for your platform... using builtin-java classes where applicable\n",
      "Setting default log level to \"WARN\".\n",
      "To adjust logging level use sc.setLogLevel(newLevel). For SparkR, use setLogLevel(newLevel).\n"
     ]
    }
   ],
   "source": [
    "spark = SparkSession.builder \\\n",
    ".appName(\"final project silver layer\") \\\n",
    ".master(\"local[2]\") \\\n",
    ".config(\"spark.jars.packages\", \"org.apache.hadoop:hadoop-aws:3.2.0,io.delta:delta-core_2.12:2.4.0,io.delta:delta-storage:2.4.0\") \\\n",
    ".config(\"spark.hadoop.fs.s3a.access.key\", accessKeyId) \\\n",
    ".config(\"spark.hadoop.fs.s3a.secret.key\", secretAccessKey) \\\n",
    ".config(\"spark.hadoop.fs.s3a.path.style.access\", True) \\\n",
    ".config(\"spark.hadoop.fs.s3a.impl\", \"org.apache.hadoop.fs.s3a.S3AFileSystem\") \\\n",
    ".config(\"spark.hadoop.fs.s3a.endpoint\", \"http://minio:9000\") \\\n",
    ".config(\"spark.sql.extensions\", \"io.delta.sql.DeltaSparkSessionExtension\") \\\n",
    ".config(\"spark.sql.catalog.spark_catalog\", \"org.apache.spark.sql.delta.catalog.DeltaCatalog\") \\\n",
    ".getOrCreate() "
   ]
  },
  {
   "cell_type": "markdown",
   "id": "1ed4af13-48c0-485d-8c24-00270f261453",
   "metadata": {},
   "source": [
    "## **read from minio in the form deltatable**"
   ]
  },
  {
   "cell_type": "code",
   "execution_count": 8,
   "id": "a6959795-d7b0-4e2a-b6b7-6f84ad671a6a",
   "metadata": {},
   "outputs": [],
   "source": [
    "from delta.tables import *"
   ]
  },
  {
   "cell_type": "code",
   "execution_count": 6,
   "id": "bc31fd9e-75d9-4d71-9162-729fe35d795e",
   "metadata": {},
   "outputs": [],
   "source": [
    "deltaPath = f\"s3a://tmdb-silver/cast\""
   ]
  },
  {
   "cell_type": "code",
   "execution_count": 11,
   "id": "536ee8ae-7f7f-4a07-8999-11c06506a4de",
   "metadata": {},
   "outputs": [],
   "source": [
    "#DeltaTable ile forPath metoduna spark session'ı ve \n",
    "#delta path bilgisi vererek delta table formatında okuyoruz.\n",
    "cast_delta = DeltaTable.forPath(spark, deltaPath)"
   ]
  },
  {
   "cell_type": "code",
   "execution_count": 12,
   "id": "7f87eae9-19b9-49af-af8a-36b317bb6436",
   "metadata": {},
   "outputs": [
    {
     "data": {
      "text/plain": [
       "delta.tables.DeltaTable"
      ]
     },
     "execution_count": 12,
     "metadata": {},
     "output_type": "execute_result"
    }
   ],
   "source": [
    "type(cast_delta)"
   ]
  },
  {
   "cell_type": "code",
   "execution_count": 13,
   "id": "060aaa83-436c-42fa-8ad8-61a3b7871847",
   "metadata": {},
   "outputs": [
    {
     "name": "stderr",
     "output_type": "stream",
     "text": [
      "23/11/18 02:56:38 WARN package: Truncated the string representation of a plan since it was too large. This behavior can be adjusted by setting 'spark.sql.debug.maxToStringFields'.\n",
      "                                                                                \r"
     ]
    },
    {
     "name": "stdout",
     "output_type": "stream",
     "text": [
      "+--------+-----+-------+------------------+--------------------+------+-------+-------------------+\n",
      "|movie_id|title|cast_id|         character|           credit_id|gender|     id|               name|\n",
      "+--------+-----+-------+------------------+--------------------+------+-------+-------------------+\n",
      "|   73935|Vamps|      3|             Goody|52fe48b3c3a368484...|     0|   5588| Alicia Silverstone|\n",
      "|   73935|Vamps|      4|             Stacy|52fe48b3c3a368484...|     1|  78080|     Krysten Ritter|\n",
      "|   73935|Vamps|      5|          Cisserus|52fe48b3c3a368484...|     1|  10205|   Sigourney Weaver|\n",
      "|   73935|Vamps|      6|             Danny|52fe48b3c3a368484...|     2|   6105|      Richard Lewis|\n",
      "|   73935|Vamps|      7|   Dr. Van Helsing|52fe48b3c3a368484...|     2|  12900|      Wallace Shawn|\n",
      "|   73935|Vamps|      8|              Vlad|52fe48b3c3a368484...|     2|  56890|   Malcolm McDowell|\n",
      "|   73935|Vamps|      9|          Renfield|52fe48b3c3a368484...|     2|   6212|           Zak Orth|\n",
      "|   73935|Vamps|     10|            Angela|52fe48b3c3a368484...|     1|  21619|      Marilu Henner|\n",
      "|   73935|Vamps|     11|  Mrs. Van Helsing|52fe48b3c3a368484...|     1|  13635|   Kristen Johnston|\n",
      "|   73935|Vamps|     12|              Rita|52fe48b3c3a368484...|     1| 151384|Meredith Scott Lynn|\n",
      "|   73935|Vamps|     15|      Diego Bardem|53d17594c3a368777...|     2|    258| Gael García Bernal|\n",
      "|   73935|Vamps|     16|              Joey|55893e9d925141437...|     2| 221018|        Dan Stevens|\n",
      "|   73935|Vamps|     17|  Professor Quincy|56b22372c3a3687e1...|     2| 154091|      Larry Wilmore|\n",
      "|   73935|Vamps|     18|Mary Anne Cachillo|56b223b89251411d6...|     0|1572043|    Bettina Bresnan|\n",
      "|   73935|Vamps|     19|              Ivan|56b224f5925141268...|     2| 176031|         Todd Barry|\n",
      "|   73935|Vamps|     20|         Pizza Guy|56b2260592514171f...|     2|  37043|      Taylor Negron|\n",
      "|   73935|Vamps|     21|             Vadim|56b22705c3a36845b...|     2|  20301|        Justin Kirk|\n",
      "|   73935|Vamps|     22|             Derek|56b22889c3a36845b...|     0| 164431|        Amir Arison|\n",
      "|   73935|Vamps|     23|              Erik|56b22918925141033...|     2|   9997|      Scott Thomson|\n",
      "|   73935|Vamps|     24|     Elderly Woman|56b229cd925141034...|     0| 167110|       Annie Kitral|\n",
      "+--------+-----+-------+------------------+--------------------+------+-------+-------------------+\n",
      "only showing top 20 rows\n",
      "\n"
     ]
    },
    {
     "name": "stderr",
     "output_type": "stream",
     "text": [
      "                                                                                \r"
     ]
    }
   ],
   "source": [
    "cast_delta.toDF().show()"
   ]
  },
  {
   "cell_type": "code",
   "execution_count": 15,
   "id": "49ac1b88-b686-4ba7-8b53-20a8b5e22873",
   "metadata": {},
   "outputs": [
    {
     "name": "stdout",
     "output_type": "stream",
     "text": [
      "root\n",
      " |-- movie_id: long (nullable = true)\n",
      " |-- title: string (nullable = true)\n",
      " |-- cast_id: long (nullable = true)\n",
      " |-- character: string (nullable = true)\n",
      " |-- credit_id: string (nullable = true)\n",
      " |-- gender: long (nullable = true)\n",
      " |-- id: long (nullable = true)\n",
      " |-- name: string (nullable = true)\n",
      "\n"
     ]
    }
   ],
   "source": [
    "cast_delta.toDF().printSchema()"
   ]
  }
 ],
 "metadata": {
  "kernelspec": {
   "display_name": "Python 3 (ipykernel)",
   "language": "python",
   "name": "python3"
  },
  "language_info": {
   "codemirror_mode": {
    "name": "ipython",
    "version": 3
   },
   "file_extension": ".py",
   "mimetype": "text/x-python",
   "name": "python",
   "nbconvert_exporter": "python",
   "pygments_lexer": "ipython3",
   "version": "3.8.18"
  }
 },
 "nbformat": 4,
 "nbformat_minor": 5
}
