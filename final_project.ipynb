{
 "cells": [
  {
   "cell_type": "code",
   "execution_count": 25,
   "id": "562599af-0cc1-4522-866b-2208305e727b",
   "metadata": {},
   "outputs": [],
   "source": [
    "import findspark\n",
    "findspark.init(\"/opt/spark\")"
   ]
  },
  {
   "cell_type": "code",
   "execution_count": 26,
   "id": "f03c7038-dd68-42f0-ba46-a337b93085ae",
   "metadata": {},
   "outputs": [],
   "source": [
    "from pyspark.sql import SparkSession, functions as F\n",
    "from pyspark import SparkContext\n",
    "import configparser"
   ]
  },
  {
   "cell_type": "markdown",
   "id": "e5ee20ad-4b9b-4616-868f-29f416c09eef",
   "metadata": {},
   "source": [
    "#### accessKeyId,secretAccessKey'i db_conn'dan okuyacagız."
   ]
  },
  {
   "cell_type": "code",
   "execution_count": 27,
   "id": "5807558c-2943-41db-a2ab-626dd110de56",
   "metadata": {},
   "outputs": [],
   "source": [
    "config = configparser.RawConfigParser()\n",
    "\n",
    "config.read('/dataops/db_conn')\n",
    "accessKeyId = config.get('DB', 'user_name')\n",
    "secretAccessKey = config.get('DB', 'password')"
   ]
  },
  {
   "cell_type": "code",
   "execution_count": 28,
   "id": "12c6926e-7ba6-46d3-84b0-1c6beda078c6",
   "metadata": {},
   "outputs": [],
   "source": [
    "spark = SparkSession.builder \\\n",
    ".appName(\"final project\") \\\n",
    ".master(\"local[2]\") \\\n",
    ".config(\"spark.jars.packages\", \"org.apache.hadoop:hadoop-aws:3.2.0,io.delta:delta-core_2.12:2.4.0,io.delta:delta-storage:2.4.0\") \\\n",
    ".config(\"spark.hadoop.fs.s3a.access.key\", accessKeyId) \\\n",
    ".config(\"spark.hadoop.fs.s3a.secret.key\", secretAccessKey) \\\n",
    ".config(\"spark.hadoop.fs.s3a.path.style.access\", True) \\\n",
    ".config(\"spark.hadoop.fs.s3a.impl\", \"org.apache.hadoop.fs.s3a.S3AFileSystem\") \\\n",
    ".config(\"spark.hadoop.fs.s3a.endpoint\", \"http://minio:9000\") \\\n",
    ".config(\"spark.sql.extensions\", \"io.delta.sql.DeltaSparkSessionExtension\") \\\n",
    ".config(\"spark.sql.catalog.spark_catalog\", \"org.apache.spark.sql.delta.catalog.DeltaCatalog\") \\\n",
    ".getOrCreate() "
   ]
  },
  {
   "cell_type": "markdown",
   "id": "2ae80759-1376-4508-8e68-f0b0cc5f1bb2",
   "metadata": {},
   "source": [
    "## **read from minio**"
   ]
  },
  {
   "cell_type": "markdown",
   "id": "deb12fd6-c04f-478a-85cd-1014ebc0774f",
   "metadata": {},
   "source": [
    "### **- credits data**"
   ]
  },
  {
   "cell_type": "code",
   "execution_count": 29,
   "id": "e4c8747c-c216-44b9-9767-90ac3ee24923",
   "metadata": {},
   "outputs": [],
   "source": [
    "df_cred = spark.read \\\n",
    ".option(\"header\", \"true\") \\\n",
    ".option(\"inferSchema\",True) \\\n",
    ".load('s3a://tmdb-bronze/credits')"
   ]
  },
  {
   "cell_type": "code",
   "execution_count": 30,
   "id": "671c4fc1-6334-42bb-88a8-a8537402583e",
   "metadata": {},
   "outputs": [
    {
     "name": "stdout",
     "output_type": "stream",
     "text": [
      "+--------+--------------------+--------------------+--------------------+--------------------+\n",
      "|movie_id|               title|                cast|                crew|          event_time|\n",
      "+--------+--------------------+--------------------+--------------------+--------------------+\n",
      "|   19995|              Avatar|[{\"cast_id\": 242,...|[{\"credit_id\": \"5...|2023-11-18 01:13:...|\n",
      "|     285|Pirates of the Ca...|[{\"cast_id\": 4, \"...|[{\"credit_id\": \"5...|2023-11-18 01:13:...|\n",
      "|  206647|             Spectre|[{\"cast_id\": 1, \"...|[{\"credit_id\": \"5...|2023-11-18 01:13:...|\n",
      "|   49026|The Dark Knight R...|[{\"cast_id\": 2, \"...|[{\"credit_id\": \"5...|2023-11-18 01:13:...|\n",
      "|   49529|         John Carter|[{\"cast_id\": 5, \"...|[{\"credit_id\": \"5...|2023-11-18 01:13:...|\n",
      "+--------+--------------------+--------------------+--------------------+--------------------+\n",
      "\n"
     ]
    }
   ],
   "source": [
    "df_cred.limit(5).show()"
   ]
  },
  {
   "cell_type": "code",
   "execution_count": 32,
   "id": "d47d1512-91cd-42bd-9de2-c0b37220086a",
   "metadata": {},
   "outputs": [
    {
     "name": "stdout",
     "output_type": "stream",
     "text": [
      "root\n",
      " |-- movie_id: long (nullable = true)\n",
      " |-- title: string (nullable = true)\n",
      " |-- cast: string (nullable = true)\n",
      " |-- crew: string (nullable = true)\n",
      " |-- event_time: timestamp_ntz (nullable = true)\n",
      "\n"
     ]
    }
   ],
   "source": [
    "df_cred.printSchema()"
   ]
  },
  {
   "cell_type": "markdown",
   "id": "31d33e12-4322-4809-bb31-bfb45fa03350",
   "metadata": {},
   "source": [
    "##### notlar:\n",
    "cast ve crew sütunları --> json structured."
   ]
  },
  {
   "cell_type": "code",
   "execution_count": 33,
   "id": "51f6614e-63cd-4c11-92d8-9941c6477d3e",
   "metadata": {},
   "outputs": [],
   "source": [
    "from pyspark.sql.functions import from_json, schema_of_json"
   ]
  },
  {
   "cell_type": "code",
   "execution_count": 34,
   "id": "db03a722-3e46-4357-8817-1d57c98643d2",
   "metadata": {},
   "outputs": [],
   "source": [
    "cast_schema = schema_of_json(df_cred.select(\"cast\").limit(1).collect()[0][0])\n",
    "crew_schema = schema_of_json(df_cred.select(\"crew\").limit(1).collect()[0][0])"
   ]
  },
  {
   "cell_type": "code",
   "execution_count": 35,
   "id": "a1de0971-39a7-439c-a747-a78b6206701a",
   "metadata": {},
   "outputs": [],
   "source": [
    "df1_cred = df_cred.withColumn(\"cast\", from_json(df_cred[\"cast\"], cast_schema)) \\\n",
    ".withColumn(\"crew\", from_json(df_cred[\"crew\"], crew_schema))"
   ]
  },
  {
   "cell_type": "code",
   "execution_count": 36,
   "id": "e8ed4b19-d781-4368-b572-19e96c7bf32d",
   "metadata": {},
   "outputs": [
    {
     "name": "stdout",
     "output_type": "stream",
     "text": [
      "root\n",
      " |-- movie_id: long (nullable = true)\n",
      " |-- title: string (nullable = true)\n",
      " |-- cast: array (nullable = true)\n",
      " |    |-- element: struct (containsNull = true)\n",
      " |    |    |-- cast_id: long (nullable = true)\n",
      " |    |    |-- character: string (nullable = true)\n",
      " |    |    |-- credit_id: string (nullable = true)\n",
      " |    |    |-- gender: long (nullable = true)\n",
      " |    |    |-- id: long (nullable = true)\n",
      " |    |    |-- name: string (nullable = true)\n",
      " |    |    |-- order: long (nullable = true)\n",
      " |-- crew: array (nullable = true)\n",
      " |    |-- element: struct (containsNull = true)\n",
      " |    |    |-- credit_id: string (nullable = true)\n",
      " |    |    |-- department: string (nullable = true)\n",
      " |    |    |-- gender: long (nullable = true)\n",
      " |    |    |-- id: long (nullable = true)\n",
      " |    |    |-- job: string (nullable = true)\n",
      " |    |    |-- name: string (nullable = true)\n",
      " |-- event_time: timestamp_ntz (nullable = true)\n",
      "\n"
     ]
    }
   ],
   "source": [
    "df1_cred.printSchema()"
   ]
  },
  {
   "cell_type": "code",
   "execution_count": 37,
   "id": "065816ce-9411-41be-9bdb-8c01c9268842",
   "metadata": {},
   "outputs": [],
   "source": [
    "from pyspark.sql.functions import explode, col, format_number\n",
    "\n",
    "df_cast = df1_cred.select(\"movie_id\", \"title\", explode(\"cast\").alias(\"cast\"), \"event_time\")\n",
    "df_crew = df1_cred.select(\"movie_id\", \"title\", explode(\"crew\").alias(\"crew\"), \"event_time\")"
   ]
  },
  {
   "cell_type": "code",
   "execution_count": 38,
   "id": "f9a8c314-6338-4ac6-98b2-13f3de0f9029",
   "metadata": {},
   "outputs": [
    {
     "name": "stdout",
     "output_type": "stream",
     "text": [
      "+--------+------+--------------------+--------------------+\n",
      "|movie_id| title|                cast|          event_time|\n",
      "+--------+------+--------------------+--------------------+\n",
      "|   19995|Avatar|{242, Jake Sully,...|2023-11-18 01:13:...|\n",
      "|   19995|Avatar|{3, Neytiri, 52fe...|2023-11-18 01:13:...|\n",
      "|   19995|Avatar|{25, Dr. Grace Au...|2023-11-18 01:13:...|\n",
      "|   19995|Avatar|{4, Col. Quaritch...|2023-11-18 01:13:...|\n",
      "|   19995|Avatar|{5, Trudy Chacon,...|2023-11-18 01:13:...|\n",
      "+--------+------+--------------------+--------------------+\n",
      "\n"
     ]
    }
   ],
   "source": [
    "df_cast.limit(5).show()"
   ]
  },
  {
   "cell_type": "code",
   "execution_count": 39,
   "id": "b8825c02-3a6d-448e-b5a1-8059491d6f94",
   "metadata": {},
   "outputs": [
    {
     "name": "stdout",
     "output_type": "stream",
     "text": [
      "root\n",
      " |-- movie_id: long (nullable = true)\n",
      " |-- title: string (nullable = true)\n",
      " |-- cast: struct (nullable = true)\n",
      " |    |-- cast_id: long (nullable = true)\n",
      " |    |-- character: string (nullable = true)\n",
      " |    |-- credit_id: string (nullable = true)\n",
      " |    |-- gender: long (nullable = true)\n",
      " |    |-- id: long (nullable = true)\n",
      " |    |-- name: string (nullable = true)\n",
      " |    |-- order: long (nullable = true)\n",
      " |-- event_time: timestamp_ntz (nullable = true)\n",
      "\n"
     ]
    }
   ],
   "source": [
    "df_cast.printSchema()"
   ]
  },
  {
   "cell_type": "code",
   "execution_count": 40,
   "id": "f90a9f3d-55e2-41e3-beea-397a540c4c91",
   "metadata": {},
   "outputs": [
    {
     "name": "stdout",
     "output_type": "stream",
     "text": [
      "+--------+------+--------------------+--------------------+\n",
      "|movie_id| title|                crew|          event_time|\n",
      "+--------+------+--------------------+--------------------+\n",
      "|   19995|Avatar|{52fe48009251416c...|2023-11-18 01:13:...|\n",
      "|   19995|Avatar|{539c47ecc3a36810...|2023-11-18 01:13:...|\n",
      "|   19995|Avatar|{54491c89c3a3680f...|2023-11-18 01:13:...|\n",
      "|   19995|Avatar|{54491cb70e0a2674...|2023-11-18 01:13:...|\n",
      "|   19995|Avatar|{539c4a4cc3a36810...|2023-11-18 01:13:...|\n",
      "+--------+------+--------------------+--------------------+\n",
      "\n"
     ]
    }
   ],
   "source": [
    "df_crew.limit(5).show()"
   ]
  },
  {
   "cell_type": "code",
   "execution_count": 41,
   "id": "df859d8f-9909-40fa-8262-587e508a4266",
   "metadata": {},
   "outputs": [
    {
     "name": "stdout",
     "output_type": "stream",
     "text": [
      "root\n",
      " |-- movie_id: long (nullable = true)\n",
      " |-- title: string (nullable = true)\n",
      " |-- crew: struct (nullable = true)\n",
      " |    |-- credit_id: string (nullable = true)\n",
      " |    |-- department: string (nullable = true)\n",
      " |    |-- gender: long (nullable = true)\n",
      " |    |-- id: long (nullable = true)\n",
      " |    |-- job: string (nullable = true)\n",
      " |    |-- name: string (nullable = true)\n",
      " |-- event_time: timestamp_ntz (nullable = true)\n",
      "\n"
     ]
    }
   ],
   "source": [
    "df_crew.printSchema()"
   ]
  },
  {
   "cell_type": "markdown",
   "id": "66319dcb-af5f-4c97-aa82-a71246e0d799",
   "metadata": {},
   "source": [
    "#### **cast table**"
   ]
  },
  {
   "cell_type": "code",
   "execution_count": 42,
   "id": "5fee7e5d-7cc1-4bbf-bad2-790ff507ae12",
   "metadata": {},
   "outputs": [],
   "source": [
    "pre_cast = df_cast.select(\n",
    "    col(\"movie_id\"),\n",
    "    col(\"title\"),\n",
    "    col(\"cast.cast_id\").alias(\"cast_id\"),\n",
    "    col(\"cast.character\").alias(\"character\"),\n",
    "    col(\"cast.credit_id\").alias(\"credit_id\"),\n",
    "    col(\"cast.gender\").alias(\"gender\"),\n",
    "    col(\"cast.id\").alias(\"id\"),\n",
    "    col(\"cast.name\").alias(\"name\"))"
   ]
  },
  {
   "cell_type": "code",
   "execution_count": 43,
   "id": "66c5b13e-150d-479b-b41e-2c86cf36b39b",
   "metadata": {},
   "outputs": [
    {
     "name": "stdout",
     "output_type": "stream",
     "text": [
      "+--------+------+-------+-------------------+--------------------+------+-----+------------------+\n",
      "|movie_id| title|cast_id|          character|           credit_id|gender|   id|              name|\n",
      "+--------+------+-------+-------------------+--------------------+------+-----+------------------+\n",
      "|   19995|Avatar|    242|         Jake Sully|5602a8a7c3a368553...|     2|65731|   Sam Worthington|\n",
      "|   19995|Avatar|      3|            Neytiri|52fe48009251416c7...|     1| 8691|       Zoe Saldana|\n",
      "|   19995|Avatar|     25|Dr. Grace Augustine|52fe48009251416c7...|     1|10205|  Sigourney Weaver|\n",
      "|   19995|Avatar|      4|      Col. Quaritch|52fe48009251416c7...|     2|32747|      Stephen Lang|\n",
      "|   19995|Avatar|      5|       Trudy Chacon|52fe48009251416c7...|     1|17647|Michelle Rodriguez|\n",
      "+--------+------+-------+-------------------+--------------------+------+-----+------------------+\n",
      "\n"
     ]
    }
   ],
   "source": [
    "pre_cast.limit(5).show()"
   ]
  },
  {
   "cell_type": "code",
   "execution_count": 44,
   "id": "3e3c29b2-5b3d-4943-b932-794868b86169",
   "metadata": {
    "scrolled": true
   },
   "outputs": [
    {
     "name": "stdout",
     "output_type": "stream",
     "text": [
      "root\n",
      " |-- movie_id: long (nullable = true)\n",
      " |-- title: string (nullable = true)\n",
      " |-- cast_id: long (nullable = true)\n",
      " |-- character: string (nullable = true)\n",
      " |-- credit_id: string (nullable = true)\n",
      " |-- gender: long (nullable = true)\n",
      " |-- id: long (nullable = true)\n",
      " |-- name: string (nullable = true)\n",
      "\n"
     ]
    }
   ],
   "source": [
    "pre_cast.printSchema()"
   ]
  },
  {
   "cell_type": "code",
   "execution_count": 45,
   "id": "2feb0491-163b-40fe-a1dd-2c0f7c41c2b4",
   "metadata": {},
   "outputs": [
    {
     "name": "stdout",
     "output_type": "stream",
     "text": [
      "movie_id has 0 null values.\n",
      "title has 0 null values.\n"
     ]
    },
    {
     "name": "stderr",
     "output_type": "stream",
     "text": [
      "                                                                                \r"
     ]
    },
    {
     "name": "stdout",
     "output_type": "stream",
     "text": [
      "cast_id has 0 null values.\n"
     ]
    },
    {
     "name": "stderr",
     "output_type": "stream",
     "text": [
      "                                                                                \r"
     ]
    },
    {
     "name": "stdout",
     "output_type": "stream",
     "text": [
      "character has 0 null values.\n"
     ]
    },
    {
     "name": "stderr",
     "output_type": "stream",
     "text": [
      "                                                                                \r"
     ]
    },
    {
     "name": "stdout",
     "output_type": "stream",
     "text": [
      "credit_id has 0 null values.\n"
     ]
    },
    {
     "name": "stderr",
     "output_type": "stream",
     "text": [
      "                                                                                \r"
     ]
    },
    {
     "name": "stdout",
     "output_type": "stream",
     "text": [
      "gender has 0 null values.\n"
     ]
    },
    {
     "name": "stderr",
     "output_type": "stream",
     "text": [
      "[Stage 27:>                                                         (0 + 2) / 2]\r"
     ]
    },
    {
     "name": "stdout",
     "output_type": "stream",
     "text": [
      "id has 0 null values.\n"
     ]
    },
    {
     "name": "stderr",
     "output_type": "stream",
     "text": [
      "[Stage 30:>                                                         (0 + 2) / 2]\r"
     ]
    },
    {
     "name": "stdout",
     "output_type": "stream",
     "text": [
      "name has 0 null values.\n"
     ]
    },
    {
     "name": "stderr",
     "output_type": "stream",
     "text": [
      "                                                                                \r"
     ]
    }
   ],
   "source": [
    "# null value check\n",
    "for column in pre_cast.columns:\n",
    " col_count = pre_cast.filter( F.col(column).isNull() ).count()\n",
    " if ( col_count >= 0):\n",
    "     print(\"{} has {} null values.\".format(column, col_count))"
   ]
  },
  {
   "cell_type": "code",
   "execution_count": 46,
   "id": "5e55c8b7-6263-43c4-b6c9-26646c84ea76",
   "metadata": {},
   "outputs": [
    {
     "name": "stdout",
     "output_type": "stream",
     "text": [
      "movie_id has 0 null values.\n",
      "title has 0 null values.\n",
      "cast_id has 0 null values.\n"
     ]
    },
    {
     "name": "stderr",
     "output_type": "stream",
     "text": [
      "                                                                                \r"
     ]
    },
    {
     "name": "stdout",
     "output_type": "stream",
     "text": [
      "character has 683 null values.\n",
      "credit_id has 0 null values.\n",
      "gender has 0 null values.\n",
      "id has 0 null values.\n",
      "name has 0 null values.\n"
     ]
    }
   ],
   "source": [
    "# hidden null check\n",
    "for column in pre_cast.columns:\n",
    " col_count = pre_cast.filter( F.col(column) == \"\").count()\n",
    " if ( col_count >= 0):\n",
    "     print(\"{} has {} null values.\".format(column, col_count))"
   ]
  },
  {
   "cell_type": "code",
   "execution_count": 47,
   "id": "872e461d-51e7-4bd2-999a-81187a343ed9",
   "metadata": {},
   "outputs": [],
   "source": [
    "cast = pre_cast"
   ]
  },
  {
   "cell_type": "markdown",
   "id": "9c0d64b6-cb69-4a7f-8c79-f70d124f5be9",
   "metadata": {},
   "source": [
    "#### **crew table**"
   ]
  },
  {
   "cell_type": "code",
   "execution_count": 48,
   "id": "5a26b5cb-b640-429f-9626-eb337ffff0f0",
   "metadata": {},
   "outputs": [],
   "source": [
    "pre_crew = df_crew.select(\n",
    "    col(\"movie_id\"),\n",
    "    col(\"title\"),\n",
    "    col(\"crew.credit_id\").alias(\"credit_id\"),\n",
    "    col(\"crew.department\").alias(\"department\"),\n",
    "    col(\"crew.gender\").alias(\"gender\"),\n",
    "    col(\"crew.id\").alias(\"id\"),\n",
    "    col(\"crew.job\").alias(\"job\"),\n",
    "    col(\"crew.name\").alias(\"name\"))"
   ]
  },
  {
   "cell_type": "code",
   "execution_count": 49,
   "id": "300484fe-4a3f-46f1-a8a9-1d4db32868cf",
   "metadata": {},
   "outputs": [
    {
     "name": "stdout",
     "output_type": "stream",
     "text": [
      "+--------+------+--------------------+----------+------+----+--------------------+-----------------+\n",
      "|movie_id| title|           credit_id|department|gender|  id|                 job|             name|\n",
      "+--------+------+--------------------+----------+------+----+--------------------+-----------------+\n",
      "|   19995|Avatar|52fe48009251416c7...|   Editing|     0|1721|              Editor|Stephen E. Rivkin|\n",
      "|   19995|Avatar|539c47ecc3a36810e...|       Art|     2| 496|   Production Design|      Rick Carter|\n",
      "|   19995|Avatar|54491c89c3a3680fb...|     Sound|     0| 900|      Sound Designer|Christopher Boyes|\n",
      "|   19995|Avatar|54491cb70e0a26748...|     Sound|     0| 900|Supervising Sound...|Christopher Boyes|\n",
      "|   19995|Avatar|539c4a4cc3a36810c...|Production|     1|1262|             Casting|        Mali Finn|\n",
      "+--------+------+--------------------+----------+------+----+--------------------+-----------------+\n",
      "\n"
     ]
    }
   ],
   "source": [
    "pre_crew.limit(5).show()"
   ]
  },
  {
   "cell_type": "code",
   "execution_count": 50,
   "id": "a30f9307-659d-46ca-a690-6401b1dea211",
   "metadata": {},
   "outputs": [
    {
     "name": "stdout",
     "output_type": "stream",
     "text": [
      "root\n",
      " |-- movie_id: long (nullable = true)\n",
      " |-- title: string (nullable = true)\n",
      " |-- credit_id: string (nullable = true)\n",
      " |-- department: string (nullable = true)\n",
      " |-- gender: long (nullable = true)\n",
      " |-- id: long (nullable = true)\n",
      " |-- job: string (nullable = true)\n",
      " |-- name: string (nullable = true)\n",
      "\n"
     ]
    }
   ],
   "source": [
    "pre_crew.printSchema()"
   ]
  },
  {
   "cell_type": "code",
   "execution_count": 51,
   "id": "8a983a03-ea3c-45c8-a650-7b3af48b1b21",
   "metadata": {},
   "outputs": [
    {
     "name": "stdout",
     "output_type": "stream",
     "text": [
      "movie_id has 0 null values.\n",
      "title has 0 null values.\n"
     ]
    },
    {
     "name": "stderr",
     "output_type": "stream",
     "text": [
      "                                                                                \r"
     ]
    },
    {
     "name": "stdout",
     "output_type": "stream",
     "text": [
      "credit_id has 0 null values.\n"
     ]
    },
    {
     "name": "stderr",
     "output_type": "stream",
     "text": [
      "                                                                                \r"
     ]
    },
    {
     "name": "stdout",
     "output_type": "stream",
     "text": [
      "department has 0 null values.\n"
     ]
    },
    {
     "name": "stderr",
     "output_type": "stream",
     "text": [
      "                                                                                \r"
     ]
    },
    {
     "name": "stdout",
     "output_type": "stream",
     "text": [
      "gender has 0 null values.\n"
     ]
    },
    {
     "name": "stderr",
     "output_type": "stream",
     "text": [
      "                                                                                \r"
     ]
    },
    {
     "name": "stdout",
     "output_type": "stream",
     "text": [
      "id has 0 null values.\n"
     ]
    },
    {
     "name": "stderr",
     "output_type": "stream",
     "text": [
      "                                                                                \r"
     ]
    },
    {
     "name": "stdout",
     "output_type": "stream",
     "text": [
      "job has 0 null values.\n"
     ]
    },
    {
     "name": "stderr",
     "output_type": "stream",
     "text": [
      "[Stage 75:>                                                         (0 + 2) / 2]\r"
     ]
    },
    {
     "name": "stdout",
     "output_type": "stream",
     "text": [
      "name has 0 null values.\n"
     ]
    },
    {
     "name": "stderr",
     "output_type": "stream",
     "text": [
      "[Stage 75:=============================>                            (1 + 1) / 2]\r"
     ]
    }
   ],
   "source": [
    "# null value check\n",
    "for column in pre_crew.columns:\n",
    " col_count = pre_crew.filter( F.col(column).isNull() ).count()\n",
    " if ( col_count >= 0):\n",
    "     print(\"{} has {} null values.\".format(column, col_count))"
   ]
  },
  {
   "cell_type": "code",
   "execution_count": 52,
   "id": "f65ea1a3-1efd-4f2a-bac0-72044fb7aae0",
   "metadata": {},
   "outputs": [
    {
     "name": "stderr",
     "output_type": "stream",
     "text": [
      "                                                                                \r"
     ]
    },
    {
     "name": "stdout",
     "output_type": "stream",
     "text": [
      "movie_id has 0 null values.\n",
      "title has 0 null values.\n"
     ]
    },
    {
     "name": "stderr",
     "output_type": "stream",
     "text": [
      "                                                                                \r"
     ]
    },
    {
     "name": "stdout",
     "output_type": "stream",
     "text": [
      "credit_id has 0 null values.\n",
      "department has 0 null values.\n",
      "gender has 0 null values.\n",
      "id has 0 null values.\n"
     ]
    },
    {
     "name": "stderr",
     "output_type": "stream",
     "text": [
      "                                                                                \r"
     ]
    },
    {
     "name": "stdout",
     "output_type": "stream",
     "text": [
      "job has 0 null values.\n",
      "name has 0 null values.\n"
     ]
    },
    {
     "name": "stderr",
     "output_type": "stream",
     "text": [
      "                                                                                \r"
     ]
    }
   ],
   "source": [
    "# hidden null check\n",
    "for column in pre_crew.columns:\n",
    " col_count = pre_crew.filter( F.col(column) == \"\").count()\n",
    " if ( col_count >= 0):\n",
    "     print(\"{} has {} null values.\".format(column, col_count))"
   ]
  },
  {
   "cell_type": "code",
   "execution_count": 53,
   "id": "0c0094fc-2b44-4df4-89fc-389479885818",
   "metadata": {},
   "outputs": [],
   "source": [
    "crew = pre_crew"
   ]
  },
  {
   "cell_type": "markdown",
   "id": "dd3474df-fad7-4570-9639-525c0cf9a8cb",
   "metadata": {},
   "source": [
    "### **-movies data**"
   ]
  },
  {
   "cell_type": "code",
   "execution_count": 54,
   "id": "680fa517-406d-4a5a-89ed-ded89031a082",
   "metadata": {},
   "outputs": [],
   "source": [
    "df_movies = spark.read \\\n",
    ".option(\"header\", \"true\") \\\n",
    ".option(\"inferSchema\",True) \\\n",
    ".load('s3a://tmdb-bronze/movies')"
   ]
  },
  {
   "cell_type": "code",
   "execution_count": 55,
   "id": "1e3d2e16-461f-476a-8497-bed0e381f311",
   "metadata": {},
   "outputs": [],
   "source": [
    "import pandas as pd\n",
    "pd.set_option('display.max_columns', None)"
   ]
  },
  {
   "cell_type": "code",
   "execution_count": 56,
   "id": "cfc77369-b560-4cda-aba0-655856d21580",
   "metadata": {},
   "outputs": [
    {
     "name": "stdout",
     "output_type": "stream",
     "text": [
      "root\n",
      " |-- budget: long (nullable = true)\n",
      " |-- genres: string (nullable = true)\n",
      " |-- homepage: string (nullable = true)\n",
      " |-- id: long (nullable = true)\n",
      " |-- keywords: string (nullable = true)\n",
      " |-- original_language: string (nullable = true)\n",
      " |-- original_title: string (nullable = true)\n",
      " |-- overview: string (nullable = true)\n",
      " |-- popularity: double (nullable = true)\n",
      " |-- production_companies: string (nullable = true)\n",
      " |-- production_countries: string (nullable = true)\n",
      " |-- release_date: string (nullable = true)\n",
      " |-- revenue: long (nullable = true)\n",
      " |-- runtime: double (nullable = true)\n",
      " |-- spoken_languages: string (nullable = true)\n",
      " |-- status: string (nullable = true)\n",
      " |-- tagline: string (nullable = true)\n",
      " |-- title: string (nullable = true)\n",
      " |-- vote_average: double (nullable = true)\n",
      " |-- vote_count: long (nullable = true)\n",
      " |-- event_time: timestamp_ntz (nullable = true)\n",
      "\n"
     ]
    }
   ],
   "source": [
    "df_movies.printSchema()"
   ]
  },
  {
   "cell_type": "code",
   "execution_count": 57,
   "id": "2f70ecb8-c36d-46fd-aa3c-6beba9b22109",
   "metadata": {},
   "outputs": [],
   "source": [
    "genres_schema = schema_of_json(df_movies.select(\"genres\").limit(1).collect()[0][0])\n",
    "keywords_schema = schema_of_json(df_movies.select(\"keywords\").limit(1).collect()[0][0])\n",
    "prod_comp_schema=schema_of_json(df_movies.select(\"production_companies\").limit(1).collect()[0][0])\n",
    "prod_countries_schema=schema_of_json(df_movies.select(\"production_countries\").limit(1).collect()[0][0])\n",
    "spoken_lang_schema=schema_of_json(df_movies.select(\"spoken_languages\").limit(1).collect()[0][0])"
   ]
  },
  {
   "cell_type": "code",
   "execution_count": 58,
   "id": "107a088e-f99f-4c8f-868a-1615df503bbd",
   "metadata": {},
   "outputs": [],
   "source": [
    "df1_movies = df_movies.withColumn(\"genres\", from_json(df_movies[\"genres\"], genres_schema)) \\\n",
    ".withColumn(\"keywords\", from_json(df_movies[\"keywords\"], keywords_schema)) \\\n",
    ".withColumn(\"production_companies\", from_json(df_movies[\"production_companies\"], prod_comp_schema)) \\\n",
    ".withColumn(\"production_countries\", from_json(df_movies[\"production_countries\"], prod_countries_schema)) \\\n",
    ".withColumn(\"spoken_languages\", from_json(df_movies[\"spoken_languages\"], spoken_lang_schema)) "
   ]
  },
  {
   "cell_type": "code",
   "execution_count": 59,
   "id": "af03389c-10d1-4c7b-8a12-b93fa3e04e6c",
   "metadata": {},
   "outputs": [
    {
     "name": "stdout",
     "output_type": "stream",
     "text": [
      "root\n",
      " |-- budget: long (nullable = true)\n",
      " |-- genres: array (nullable = true)\n",
      " |    |-- element: struct (containsNull = true)\n",
      " |    |    |-- id: long (nullable = true)\n",
      " |    |    |-- name: string (nullable = true)\n",
      " |-- homepage: string (nullable = true)\n",
      " |-- id: long (nullable = true)\n",
      " |-- keywords: array (nullable = true)\n",
      " |    |-- element: struct (containsNull = true)\n",
      " |    |    |-- id: long (nullable = true)\n",
      " |    |    |-- name: string (nullable = true)\n",
      " |-- original_language: string (nullable = true)\n",
      " |-- original_title: string (nullable = true)\n",
      " |-- overview: string (nullable = true)\n",
      " |-- popularity: double (nullable = true)\n",
      " |-- production_companies: array (nullable = true)\n",
      " |    |-- element: struct (containsNull = true)\n",
      " |    |    |-- id: long (nullable = true)\n",
      " |    |    |-- name: string (nullable = true)\n",
      " |-- production_countries: array (nullable = true)\n",
      " |    |-- element: struct (containsNull = true)\n",
      " |    |    |-- iso_3166_1: string (nullable = true)\n",
      " |    |    |-- name: string (nullable = true)\n",
      " |-- release_date: string (nullable = true)\n",
      " |-- revenue: long (nullable = true)\n",
      " |-- runtime: double (nullable = true)\n",
      " |-- spoken_languages: array (nullable = true)\n",
      " |    |-- element: struct (containsNull = true)\n",
      " |    |    |-- iso_639_1: string (nullable = true)\n",
      " |    |    |-- name: string (nullable = true)\n",
      " |-- status: string (nullable = true)\n",
      " |-- tagline: string (nullable = true)\n",
      " |-- title: string (nullable = true)\n",
      " |-- vote_average: double (nullable = true)\n",
      " |-- vote_count: long (nullable = true)\n",
      " |-- event_time: timestamp_ntz (nullable = true)\n",
      "\n"
     ]
    }
   ],
   "source": [
    "df1_movies.printSchema()"
   ]
  },
  {
   "cell_type": "code",
   "execution_count": 60,
   "id": "31b55cc5-2a39-43b5-93a2-85b6dbb1ffd6",
   "metadata": {},
   "outputs": [],
   "source": [
    "pre_movies = df1_movies.select(\"id\", \"title\", \"budget\", \"homepage\", \"original_language\", \"original_title\", \"overview\", \"popularity\", \"release_date\", \"revenue\", \"runtime\", \"status\", \"tagline\",\"vote_average\", \"vote_count\")\n",
    "pre_genres = df1_movies.select(\"id\", explode(\"genres\").alias(\"genres\"))\n",
    "pre_keywords = df1_movies.select(\"id\", explode(\"keywords\").alias(\"keywords\"))\n",
    "pre_production_companies = df1_movies.select(\"id\", explode(\"production_companies\").alias(\"production_companies\"))\n",
    "pre_production_countries = df1_movies.select(\"id\", explode(\"production_countries\").alias(\"production_countries\"))\n",
    "pre_spoken_languages = df1_movies.select(\"id\", explode(\"spoken_languages\").alias(\"spoken_languages\"))"
   ]
  },
  {
   "cell_type": "markdown",
   "id": "55f1f4ad-eff5-4da2-8657-bd51a3cebbd2",
   "metadata": {},
   "source": [
    "#### **movies table**"
   ]
  },
  {
   "cell_type": "code",
   "execution_count": 61,
   "id": "bd6b7874-9ed2-410c-acf7-a0128a19fbcc",
   "metadata": {},
   "outputs": [],
   "source": [
    "pre1_movies = pre_movies.select(\n",
    "    col(\"id\").alias(\"movie_id\"),\n",
    "    col(\"title\"),\n",
    "    col(\"budget\"),\n",
    "    col(\"homepage\"),\n",
    "    col(\"original_language\"),\n",
    "    col(\"original_title\"),\n",
    "    col(\"overview\"),\n",
    "    col(\"popularity\"),\n",
    "    col(\"release_date\"),\n",
    "    col(\"revenue\"),\n",
    "    col(\"runtime\"),\n",
    "    col(\"status\"),\n",
    "    col(\"tagline\"),\n",
    "    col(\"vote_average\"),\n",
    "    col(\"vote_count\"))"
   ]
  },
  {
   "cell_type": "code",
   "execution_count": 62,
   "id": "93479bb5-8430-44f6-8799-83ba489d0082",
   "metadata": {},
   "outputs": [
    {
     "name": "stdout",
     "output_type": "stream",
     "text": [
      "root\n",
      " |-- movie_id: long (nullable = true)\n",
      " |-- title: string (nullable = true)\n",
      " |-- budget: long (nullable = true)\n",
      " |-- homepage: string (nullable = true)\n",
      " |-- original_language: string (nullable = true)\n",
      " |-- original_title: string (nullable = true)\n",
      " |-- overview: string (nullable = true)\n",
      " |-- popularity: double (nullable = true)\n",
      " |-- release_date: string (nullable = true)\n",
      " |-- revenue: long (nullable = true)\n",
      " |-- runtime: double (nullable = true)\n",
      " |-- status: string (nullable = true)\n",
      " |-- tagline: string (nullable = true)\n",
      " |-- vote_average: double (nullable = true)\n",
      " |-- vote_count: long (nullable = true)\n",
      "\n"
     ]
    }
   ],
   "source": [
    "pre1_movies.printSchema()"
   ]
  },
  {
   "cell_type": "code",
   "execution_count": 63,
   "id": "923e5f1a-ced5-49b0-9bf1-53df263ab367",
   "metadata": {},
   "outputs": [],
   "source": [
    "from pyspark.sql.types import *\n",
    "\n",
    "movies = pre1_movies.withColumn(\"movie_id\", F.col(\"movie_id\").cast(StringType())) \\\n",
    ".withColumn(\"budget\", col(\"budget\").cast(DoubleType())) \\\n",
    ".withColumn(\"popularity\", col(\"popularity\").cast(FloatType())) \\\n",
    ".withColumn(\"release_date\", F.to_date(F.col(\"release_date\"),\"yyyy-MM-dd\")) \\\n",
    ".withColumn(\"revenue\", col(\"revenue\").cast(DoubleType())) \\\n",
    ".withColumn(\"runtime\", col(\"runtime\").cast(IntegerType())) \\\n",
    ".withColumn(\"vote_average\", col(\"vote_average\").cast(FloatType())) \\\n",
    ".withColumn(\"vote_count\", col(\"vote_count\").cast(IntegerType()))"
   ]
  },
  {
   "cell_type": "code",
   "execution_count": 64,
   "id": "242611fd-008b-470a-a914-bced39182d4f",
   "metadata": {},
   "outputs": [
    {
     "name": "stdout",
     "output_type": "stream",
     "text": [
      "root\n",
      " |-- movie_id: string (nullable = true)\n",
      " |-- title: string (nullable = true)\n",
      " |-- budget: double (nullable = true)\n",
      " |-- homepage: string (nullable = true)\n",
      " |-- original_language: string (nullable = true)\n",
      " |-- original_title: string (nullable = true)\n",
      " |-- overview: string (nullable = true)\n",
      " |-- popularity: float (nullable = true)\n",
      " |-- release_date: date (nullable = true)\n",
      " |-- revenue: double (nullable = true)\n",
      " |-- runtime: integer (nullable = true)\n",
      " |-- status: string (nullable = true)\n",
      " |-- tagline: string (nullable = true)\n",
      " |-- vote_average: float (nullable = true)\n",
      " |-- vote_count: integer (nullable = true)\n",
      "\n"
     ]
    }
   ],
   "source": [
    "movies.printSchema()"
   ]
  },
  {
   "cell_type": "markdown",
   "id": "19b8d54a-1dfd-48f6-bac0-eac348ea85f3",
   "metadata": {},
   "source": [
    "#### **genres table**"
   ]
  },
  {
   "cell_type": "code",
   "execution_count": 65,
   "id": "3558265f-3063-4346-91f1-ad5179f29f4a",
   "metadata": {},
   "outputs": [],
   "source": [
    "pre1_genres = pre_genres.select(\n",
    "    col(\"id\").alias(\"movie_id\"),\n",
    "    col(\"genres.id\").alias(\"id\"),\n",
    "    col(\"genres.name\").alias(\"name\"))"
   ]
  },
  {
   "cell_type": "code",
   "execution_count": 66,
   "id": "9ee43fdd-83a4-4325-bd9e-2161a0051072",
   "metadata": {},
   "outputs": [
    {
     "name": "stdout",
     "output_type": "stream",
     "text": [
      "root\n",
      " |-- movie_id: long (nullable = true)\n",
      " |-- id: long (nullable = true)\n",
      " |-- name: string (nullable = true)\n",
      "\n"
     ]
    }
   ],
   "source": [
    "pre1_genres.printSchema()"
   ]
  },
  {
   "cell_type": "code",
   "execution_count": 67,
   "id": "ddaf2f5c-f1c9-4f96-a8ab-6d76527fd412",
   "metadata": {},
   "outputs": [],
   "source": [
    "genres = pre1_genres.withColumn(\"movie_id\", F.col(\"movie_id\").cast(StringType())) \\\n",
    ".withColumn(\"id\", col(\"id\").cast(IntegerType()))"
   ]
  },
  {
   "cell_type": "code",
   "execution_count": 68,
   "id": "a33bf28e-39ef-4a9a-897e-6b4f8e694c4f",
   "metadata": {},
   "outputs": [
    {
     "name": "stdout",
     "output_type": "stream",
     "text": [
      "root\n",
      " |-- movie_id: string (nullable = true)\n",
      " |-- id: integer (nullable = true)\n",
      " |-- name: string (nullable = true)\n",
      "\n"
     ]
    }
   ],
   "source": [
    "genres.printSchema()"
   ]
  },
  {
   "cell_type": "markdown",
   "id": "0cc80960-d79d-4d6f-b988-c6b9c99abe49",
   "metadata": {},
   "source": [
    "#### **keywords table**"
   ]
  },
  {
   "cell_type": "code",
   "execution_count": 69,
   "id": "d267d42a-da44-4fc8-a1af-5f9c4518647d",
   "metadata": {},
   "outputs": [],
   "source": [
    "pre1_keywords = pre_keywords.select(\n",
    "    col(\"id\").alias(\"movie_id\"),\n",
    "    col(\"keywords.id\").alias(\"id\"),\n",
    "    col(\"keywords.name\").alias(\"name\"))"
   ]
  },
  {
   "cell_type": "code",
   "execution_count": 70,
   "id": "1f023a65-be55-435d-b2b1-0c3bdbf41701",
   "metadata": {},
   "outputs": [
    {
     "name": "stdout",
     "output_type": "stream",
     "text": [
      "root\n",
      " |-- movie_id: long (nullable = true)\n",
      " |-- id: long (nullable = true)\n",
      " |-- name: string (nullable = true)\n",
      "\n"
     ]
    }
   ],
   "source": [
    "pre1_keywords.printSchema()"
   ]
  },
  {
   "cell_type": "code",
   "execution_count": 71,
   "id": "afba6cd1-0539-41a2-aae5-feb234e31305",
   "metadata": {},
   "outputs": [],
   "source": [
    "keywords = pre1_keywords.withColumn(\"movie_id\", F.col(\"movie_id\").cast(StringType())) \\\n",
    ".withColumn(\"id\", col(\"id\").cast(IntegerType()))"
   ]
  },
  {
   "cell_type": "code",
   "execution_count": 72,
   "id": "9b41e99b-96b6-4f3d-9f8e-adde4e3862d2",
   "metadata": {},
   "outputs": [
    {
     "name": "stdout",
     "output_type": "stream",
     "text": [
      "root\n",
      " |-- movie_id: string (nullable = true)\n",
      " |-- id: integer (nullable = true)\n",
      " |-- name: string (nullable = true)\n",
      "\n"
     ]
    }
   ],
   "source": [
    "keywords.printSchema()"
   ]
  },
  {
   "cell_type": "markdown",
   "id": "47479ef7-2449-4fd1-87d5-5b1df5cd1723",
   "metadata": {},
   "source": [
    "#### **production_companies table**"
   ]
  },
  {
   "cell_type": "code",
   "execution_count": 73,
   "id": "80a46b5d-df38-4737-8627-b0cfcb07737f",
   "metadata": {},
   "outputs": [],
   "source": [
    "pre1_production_companies = pre_production_companies.select(\n",
    "    col(\"id\").alias(\"movie_id\"),\n",
    "    col(\"production_companies.id\").alias(\"id\"),\n",
    "    col(\"production_companies.name\").alias(\"name\"))"
   ]
  },
  {
   "cell_type": "code",
   "execution_count": 74,
   "id": "1804d294-725d-4ab3-a758-e1cb962a2f7e",
   "metadata": {},
   "outputs": [
    {
     "name": "stdout",
     "output_type": "stream",
     "text": [
      "root\n",
      " |-- movie_id: long (nullable = true)\n",
      " |-- id: long (nullable = true)\n",
      " |-- name: string (nullable = true)\n",
      "\n"
     ]
    }
   ],
   "source": [
    "pre1_production_companies.printSchema()"
   ]
  },
  {
   "cell_type": "code",
   "execution_count": 75,
   "id": "187fe894-3a6a-4295-97eb-55e6b76f404e",
   "metadata": {},
   "outputs": [],
   "source": [
    "production_companies = pre1_production_companies.withColumn(\"movie_id\", F.col(\"movie_id\").cast(StringType())) \\\n",
    ".withColumn(\"id\", col(\"id\").cast(IntegerType()))"
   ]
  },
  {
   "cell_type": "code",
   "execution_count": 76,
   "id": "1b86cb61-7026-4b33-9c14-0e4294da5c74",
   "metadata": {},
   "outputs": [
    {
     "name": "stdout",
     "output_type": "stream",
     "text": [
      "root\n",
      " |-- movie_id: string (nullable = true)\n",
      " |-- id: integer (nullable = true)\n",
      " |-- name: string (nullable = true)\n",
      "\n"
     ]
    }
   ],
   "source": [
    "production_companies.printSchema()"
   ]
  },
  {
   "cell_type": "markdown",
   "id": "e57abac4-8308-4aff-9a02-291275e83a1f",
   "metadata": {},
   "source": [
    "#### **production_countries table**"
   ]
  },
  {
   "cell_type": "code",
   "execution_count": 77,
   "id": "3814915b-a8d2-4836-aa6f-02ca7a94b8e3",
   "metadata": {},
   "outputs": [],
   "source": [
    "pre1_production_countries = pre_production_countries.select(\n",
    "    col(\"id\").alias(\"movie_id\"),\n",
    "    col(\"production_countries.iso_3166_1\").alias(\"iso_3166_1\"),\n",
    "    col(\"production_countries.name\").alias(\"name\"))"
   ]
  },
  {
   "cell_type": "code",
   "execution_count": 78,
   "id": "a3e913d7-9fcb-47d7-bfda-6c06f942940c",
   "metadata": {},
   "outputs": [
    {
     "name": "stdout",
     "output_type": "stream",
     "text": [
      "root\n",
      " |-- movie_id: long (nullable = true)\n",
      " |-- iso_3166_1: string (nullable = true)\n",
      " |-- name: string (nullable = true)\n",
      "\n"
     ]
    }
   ],
   "source": [
    "pre1_production_countries.printSchema()"
   ]
  },
  {
   "cell_type": "code",
   "execution_count": 79,
   "id": "5f871cd6-23e9-4ba8-abfd-152e748ff5cc",
   "metadata": {},
   "outputs": [],
   "source": [
    "production_countries = pre1_production_countries.withColumn(\"movie_id\", F.col(\"movie_id\").cast(StringType()))"
   ]
  },
  {
   "cell_type": "code",
   "execution_count": 80,
   "id": "2bc944e7-07d2-4e9d-b1ef-a7fb8550318f",
   "metadata": {},
   "outputs": [
    {
     "name": "stdout",
     "output_type": "stream",
     "text": [
      "root\n",
      " |-- movie_id: string (nullable = true)\n",
      " |-- iso_3166_1: string (nullable = true)\n",
      " |-- name: string (nullable = true)\n",
      "\n"
     ]
    }
   ],
   "source": [
    "production_countries.printSchema()"
   ]
  },
  {
   "cell_type": "markdown",
   "id": "573ae38d-94a1-4ddf-8abc-610e115471a2",
   "metadata": {},
   "source": [
    "#### **spoken_languages table**"
   ]
  },
  {
   "cell_type": "code",
   "execution_count": 81,
   "id": "651992c0-4185-459b-95c7-4aeb5e8b1cdc",
   "metadata": {},
   "outputs": [],
   "source": [
    "pre1_spoken_languages = pre_spoken_languages.select(\n",
    "    col(\"id\").alias(\"movie_id\"),\n",
    "    col(\"spoken_languages.iso_639_1\").alias(\"iso_639_1\"),\n",
    "    col(\"spoken_languages.name\").alias(\"name\"))"
   ]
  },
  {
   "cell_type": "code",
   "execution_count": 82,
   "id": "fc5cc5b8-0d19-456f-a1b3-7c4b0662a952",
   "metadata": {},
   "outputs": [
    {
     "name": "stdout",
     "output_type": "stream",
     "text": [
      "root\n",
      " |-- movie_id: long (nullable = true)\n",
      " |-- iso_639_1: string (nullable = true)\n",
      " |-- name: string (nullable = true)\n",
      "\n"
     ]
    }
   ],
   "source": [
    "pre1_spoken_languages.printSchema()"
   ]
  },
  {
   "cell_type": "code",
   "execution_count": 83,
   "id": "6fccc266-15fe-4cb8-a37e-412db2dd15cf",
   "metadata": {},
   "outputs": [],
   "source": [
    "spoken_languages = pre1_spoken_languages.withColumn(\"movie_id\", F.col(\"movie_id\").cast(StringType()))"
   ]
  },
  {
   "cell_type": "code",
   "execution_count": 84,
   "id": "b5452137-638d-49e3-80ec-7e3dc5d0bb2b",
   "metadata": {},
   "outputs": [
    {
     "name": "stdout",
     "output_type": "stream",
     "text": [
      "root\n",
      " |-- movie_id: string (nullable = true)\n",
      " |-- iso_639_1: string (nullable = true)\n",
      " |-- name: string (nullable = true)\n",
      "\n"
     ]
    }
   ],
   "source": [
    "spoken_languages.printSchema()"
   ]
  },
  {
   "cell_type": "markdown",
   "id": "29f01331-7c33-442b-9764-95434e25fc28",
   "metadata": {},
   "source": [
    "## **write to minio in the form deltatable**"
   ]
  },
  {
   "cell_type": "code",
   "execution_count": 186,
   "id": "30205d9d-6356-4ed0-8a0a-1f6829b19289",
   "metadata": {},
   "outputs": [
    {
     "name": "stderr",
     "output_type": "stream",
     "text": [
      "                                                                                \r"
     ]
    }
   ],
   "source": [
    "table_dict = {'cast': cast, 'crew': crew, 'movies': movies, 'genres': genres, 'keywords': keywords, 'production_companies': production_companies, 'production_countries': production_countries, 'spoken_languages': spoken_languages}\n",
    "\n",
    "for table_name, table in table_dict.items():\n",
    "    deltaPath = f\"s3a://tmdb-silver/{table_name}\"\n",
    "    \n",
    "    table.write \\\n",
    "    .mode(\"overwrite\") \\\n",
    "    .format(\"delta\") \\\n",
    "    .save(deltaPath)"
   ]
  }
 ],
 "metadata": {
  "kernelspec": {
   "display_name": "Python 3 (ipykernel)",
   "language": "python",
   "name": "python3"
  },
  "language_info": {
   "codemirror_mode": {
    "name": "ipython",
    "version": 3
   },
   "file_extension": ".py",
   "mimetype": "text/x-python",
   "name": "python",
   "nbconvert_exporter": "python",
   "pygments_lexer": "ipython3",
   "version": "3.8.18"
  }
 },
 "nbformat": 4,
 "nbformat_minor": 5
}
